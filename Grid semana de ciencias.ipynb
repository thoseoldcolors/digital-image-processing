{
 "cells": [
  {
   "cell_type": "code",
   "execution_count": 3,
   "metadata": {},
   "outputs": [],
   "source": [
    "from PIL import Image\n",
    "from PIL import ImageDraw\n",
    "import numpy as np\n",
    "\n",
    "def square_bottom_right(top_left_xy, side):\n",
    "    top_x, top_y = top_left_xy[0], top_left_xy[1]\n",
    "    return (top_x + side-1, top_y + side-1)\n",
    "\n",
    "def draw_square(idraw, top_left=(0,0), side=1,\n",
    "               fill_color=(0,0,0),outline_color=(0,0,0)):\n",
    "    idraw.rectangle((top_left, square_bottom_right(top_left,side)),\n",
    "                    fill=fill_color, outline=outline_color)\n",
    "    \n",
    "\n",
    "def draw_title_run(idraw, row_run, row_num, tileside):\n",
    "    current_x, y_coord = 0, tileside*row_num\n",
    "    for re in row_run:\n",
    "        run_len, fill, outline = re[0], re[1], re[2]\n",
    "        while run_len > 0:\n",
    "            draw_square(idraw, top_left=(current_x,y_coord),\n",
    "                      side = tileside, fill_color = fill,\n",
    "                      outline_color=outline)\n",
    "            run_len-= 1\n",
    "            current_x += tileside\n",
    "            \n",
    "\n",
    "def draw_tile_ornament(imgpath='',imgsize=(0,0),ornament=[],tileside=1):\n",
    "    im = Image.new('RGB',imgsize,(255,255,255))\n",
    "    idraw = ImageDraw.Draw(im)\n",
    "    for row_run, row_num in zip(ornament, range(len(ornament))):\n",
    "        draw_title_run(idraw, row_run, row_num, tileside)\n",
    "    im.save(imgpath)\n",
    "    del im\n",
    "    del idraw\n"
   ]
  },
  {
   "cell_type": "code",
   "execution_count": 2,
   "metadata": {},
   "outputs": [],
   "source": [
    "R = (87,35,100)\n",
    "G = (255,117,20)\n",
    "B = (255,255,0)\n",
    "W = (255,255,255)\n",
    "k = (0,0,0)\n",
    "tiles = [\n",
    "         [(8,W,k)],\n",
    "         [(6,W,k),(1,B,k),(1,W,k)],\n",
    "         [(5,W,k),(1,G,k),(2,W,k)],\n",
    "         [(4,W,k),(1,R,k),(3,W,k)],\n",
    "         [(8,W,k)],\n",
    "         [(8,W,k)],\n",
    "         [(8,W,k)],\n",
    "         [(8,W,k)]\n",
    "        ]\n",
    "\n",
    "draw_tile_ornament(imgpath='C:\\\\Users\\\\aviv7\\\\Documents\\\\TPDI\\\\tile_01.png',\n",
    "                   imgsize=(800,800),ornament=tiles,tileside=100)"
   ]
  },
  {
   "cell_type": "code",
   "execution_count": 2,
   "metadata": {},
   "outputs": [
    {
     "ename": "NameError",
     "evalue": "name 'Image' is not defined",
     "output_type": "error",
     "traceback": [
      "\u001b[1;31m---------------------------------------------------------------------------\u001b[0m",
      "\u001b[1;31mNameError\u001b[0m                                 Traceback (most recent call last)",
      "\u001b[1;32m<ipython-input-2-99e5602df5a0>\u001b[0m in \u001b[0;36m<module>\u001b[1;34m\u001b[0m\n\u001b[1;32m----> 1\u001b[1;33m \u001b[0mim\u001b[0m \u001b[1;33m=\u001b[0m \u001b[0mImage\u001b[0m\u001b[1;33m.\u001b[0m\u001b[0mopen\u001b[0m\u001b[1;33m(\u001b[0m\u001b[1;34m'tile_02.png'\u001b[0m\u001b[1;33m)\u001b[0m\u001b[1;33m\u001b[0m\u001b[0m\n\u001b[0m\u001b[0;32m      2\u001b[0m \u001b[0mim\u001b[0m\u001b[1;33m.\u001b[0m\u001b[0mshow\u001b[0m\u001b[1;33m(\u001b[0m\u001b[1;33m)\u001b[0m\u001b[1;33m\u001b[0m\u001b[0m\n",
      "\u001b[1;31mNameError\u001b[0m: name 'Image' is not defined"
     ]
    }
   ],
   "source": [
    "im = Image.open('tile_02.png')\n",
    "im.show()"
   ]
  },
  {
   "cell_type": "code",
   "execution_count": null,
   "metadata": {},
   "outputs": [],
   "source": []
  },
  {
   "cell_type": "code",
   "execution_count": null,
   "metadata": {},
   "outputs": [],
   "source": []
  }
 ],
 "metadata": {
  "kernelspec": {
   "display_name": "Python 3",
   "language": "python",
   "name": "python3"
  },
  "language_info": {
   "codemirror_mode": {
    "name": "ipython",
    "version": 3
   },
   "file_extension": ".py",
   "mimetype": "text/x-python",
   "name": "python",
   "nbconvert_exporter": "python",
   "pygments_lexer": "ipython3",
   "version": "3.6.5"
  }
 },
 "nbformat": 4,
 "nbformat_minor": 2
}
